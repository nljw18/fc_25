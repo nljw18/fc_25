{
 "cells": [
  {
   "cell_type": "markdown",
   "metadata": {},
   "source": [
    "# Introduction"
   ]
  },
  {
   "cell_type": "markdown",
   "metadata": {},
   "source": [
    "Predict in-game rating using several predictors\n",
    "\n",
    "We will also determine significant predictors & assess model accuracy"
   ]
  },
  {
   "cell_type": "markdown",
   "metadata": {},
   "source": [
    "# Import"
   ]
  },
  {
   "cell_type": "markdown",
   "metadata": {},
   "source": [
    "## Library"
   ]
  },
  {
   "cell_type": "code",
   "execution_count": 208,
   "metadata": {},
   "outputs": [],
   "source": [
    "import numpy as np\n",
    "import pandas as pd\n",
    "import matplotlib.pyplot as plt\n",
    "import statsmodels.api as sm \n",
    "\n",
    "# Calculate multicollinearity\n",
    "from statsmodels.tools.tools import add_constant\n",
    "from statsmodels.stats.outliers_influence import variance_inflation_factor\n",
    "\n",
    "# Scale predictors\n",
    "from sklearn.preprocessing import StandardScaler\n",
    "\n",
    "# Split data set\n",
    "from sklearn.model_selection import train_test_split\n",
    "\n",
    "# Regression Model\n",
    "from sklearn.linear_model import LinearRegression\n",
    "\n",
    "# Calculate  lowest Train MSE, Test MSE & r-squared\n",
    "from sklearn.model_selection import KFold\n",
    "from sklearn.metrics import mean_squared_error, r2_score\n"
   ]
  },
  {
   "cell_type": "markdown",
   "metadata": {},
   "source": [
    "## Data "
   ]
  },
  {
   "cell_type": "markdown",
   "metadata": {},
   "source": [
    "Read in CSV"
   ]
  },
  {
   "cell_type": "code",
   "execution_count": 209,
   "metadata": {},
   "outputs": [],
   "source": [
    "df = pd.read_csv(\"/Users/nick/work/python/fc_25/fc_25.csv\")"
   ]
  },
  {
   "cell_type": "markdown",
   "metadata": {},
   "source": [
    "Preview"
   ]
  },
  {
   "cell_type": "code",
   "execution_count": 210,
   "metadata": {},
   "outputs": [
    {
     "name": "stdout",
     "output_type": "stream",
     "text": [
      "<class 'pandas.core.frame.DataFrame'>\n",
      "RangeIndex: 16161 entries, 0 to 16160\n",
      "Data columns (total 14 columns):\n",
      " #   Column     Non-Null Count  Dtype \n",
      "---  ------     --------------  ----- \n",
      " 0   Name       16161 non-null  object\n",
      " 1   Rating     16161 non-null  int64 \n",
      " 2   Pace       16161 non-null  int64 \n",
      " 3   Shooting   16161 non-null  int64 \n",
      " 4   Passing    16161 non-null  int64 \n",
      " 5   Dribbling  16161 non-null  int64 \n",
      " 6   Defense    16161 non-null  int64 \n",
      " 7   Physical   16161 non-null  int64 \n",
      " 8   Vision     16161 non-null  int64 \n",
      " 9   Reflex     16161 non-null  int64 \n",
      " 10  Composure  16161 non-null  int64 \n",
      " 11  Jumping    16161 non-null  int64 \n",
      " 12  Foot       16161 non-null  object\n",
      " 13  Age        16161 non-null  int64 \n",
      "dtypes: int64(12), object(2)\n",
      "memory usage: 1.7+ MB\n",
      "None\n"
     ]
    },
    {
     "data": {
      "text/html": [
       "<div>\n",
       "<style scoped>\n",
       "    .dataframe tbody tr th:only-of-type {\n",
       "        vertical-align: middle;\n",
       "    }\n",
       "\n",
       "    .dataframe tbody tr th {\n",
       "        vertical-align: top;\n",
       "    }\n",
       "\n",
       "    .dataframe thead th {\n",
       "        text-align: right;\n",
       "    }\n",
       "</style>\n",
       "<table border=\"1\" class=\"dataframe\">\n",
       "  <thead>\n",
       "    <tr style=\"text-align: right;\">\n",
       "      <th></th>\n",
       "      <th>Name</th>\n",
       "      <th>Rating</th>\n",
       "      <th>Pace</th>\n",
       "      <th>Shooting</th>\n",
       "      <th>Passing</th>\n",
       "      <th>Dribbling</th>\n",
       "      <th>Defense</th>\n",
       "      <th>Physical</th>\n",
       "      <th>Vision</th>\n",
       "      <th>Reflex</th>\n",
       "      <th>Composure</th>\n",
       "      <th>Jumping</th>\n",
       "      <th>Foot</th>\n",
       "      <th>Age</th>\n",
       "    </tr>\n",
       "  </thead>\n",
       "  <tbody>\n",
       "    <tr>\n",
       "      <th>0</th>\n",
       "      <td>Kylian Mbappé</td>\n",
       "      <td>91</td>\n",
       "      <td>97</td>\n",
       "      <td>90</td>\n",
       "      <td>80</td>\n",
       "      <td>92</td>\n",
       "      <td>36</td>\n",
       "      <td>78</td>\n",
       "      <td>83</td>\n",
       "      <td>93</td>\n",
       "      <td>88</td>\n",
       "      <td>88</td>\n",
       "      <td>Right</td>\n",
       "      <td>25</td>\n",
       "    </tr>\n",
       "    <tr>\n",
       "      <th>1</th>\n",
       "      <td>Rodri</td>\n",
       "      <td>91</td>\n",
       "      <td>66</td>\n",
       "      <td>80</td>\n",
       "      <td>86</td>\n",
       "      <td>84</td>\n",
       "      <td>87</td>\n",
       "      <td>85</td>\n",
       "      <td>84</td>\n",
       "      <td>93</td>\n",
       "      <td>94</td>\n",
       "      <td>83</td>\n",
       "      <td>Right</td>\n",
       "      <td>28</td>\n",
       "    </tr>\n",
       "    <tr>\n",
       "      <th>2</th>\n",
       "      <td>Erling Haaland</td>\n",
       "      <td>91</td>\n",
       "      <td>88</td>\n",
       "      <td>92</td>\n",
       "      <td>70</td>\n",
       "      <td>81</td>\n",
       "      <td>45</td>\n",
       "      <td>88</td>\n",
       "      <td>74</td>\n",
       "      <td>94</td>\n",
       "      <td>87</td>\n",
       "      <td>92</td>\n",
       "      <td>Left</td>\n",
       "      <td>24</td>\n",
       "    </tr>\n",
       "    <tr>\n",
       "      <th>3</th>\n",
       "      <td>Jude Bellingham</td>\n",
       "      <td>90</td>\n",
       "      <td>80</td>\n",
       "      <td>87</td>\n",
       "      <td>83</td>\n",
       "      <td>88</td>\n",
       "      <td>78</td>\n",
       "      <td>83</td>\n",
       "      <td>90</td>\n",
       "      <td>91</td>\n",
       "      <td>87</td>\n",
       "      <td>84</td>\n",
       "      <td>Right</td>\n",
       "      <td>21</td>\n",
       "    </tr>\n",
       "    <tr>\n",
       "      <th>4</th>\n",
       "      <td>Vini Jr.</td>\n",
       "      <td>90</td>\n",
       "      <td>95</td>\n",
       "      <td>84</td>\n",
       "      <td>81</td>\n",
       "      <td>91</td>\n",
       "      <td>29</td>\n",
       "      <td>69</td>\n",
       "      <td>85</td>\n",
       "      <td>86</td>\n",
       "      <td>83</td>\n",
       "      <td>74</td>\n",
       "      <td>Right</td>\n",
       "      <td>24</td>\n",
       "    </tr>\n",
       "    <tr>\n",
       "      <th>5</th>\n",
       "      <td>Kevin De Bruyne</td>\n",
       "      <td>90</td>\n",
       "      <td>67</td>\n",
       "      <td>87</td>\n",
       "      <td>94</td>\n",
       "      <td>87</td>\n",
       "      <td>65</td>\n",
       "      <td>78</td>\n",
       "      <td>95</td>\n",
       "      <td>92</td>\n",
       "      <td>88</td>\n",
       "      <td>71</td>\n",
       "      <td>Right</td>\n",
       "      <td>33</td>\n",
       "    </tr>\n",
       "  </tbody>\n",
       "</table>\n",
       "</div>"
      ],
      "text/plain": [
       "              Name  Rating  Pace  Shooting  Passing  Dribbling  Defense  \\\n",
       "0    Kylian Mbappé      91    97        90       80         92       36   \n",
       "1            Rodri      91    66        80       86         84       87   \n",
       "2   Erling Haaland      91    88        92       70         81       45   \n",
       "3  Jude Bellingham      90    80        87       83         88       78   \n",
       "4         Vini Jr.      90    95        84       81         91       29   \n",
       "5  Kevin De Bruyne      90    67        87       94         87       65   \n",
       "\n",
       "   Physical  Vision  Reflex  Composure  Jumping   Foot  Age  \n",
       "0        78      83      93         88       88  Right   25  \n",
       "1        85      84      93         94       83  Right   28  \n",
       "2        88      74      94         87       92   Left   24  \n",
       "3        83      90      91         87       84  Right   21  \n",
       "4        69      85      86         83       74  Right   24  \n",
       "5        78      95      92         88       71  Right   33  "
      ]
     },
     "execution_count": 210,
     "metadata": {},
     "output_type": "execute_result"
    }
   ],
   "source": [
    "pd.set_option(\"display.max_columns\", df.shape[1])\n",
    "\n",
    "print(df.info())\n",
    "\n",
    "df.loc[0:5]"
   ]
  },
  {
   "cell_type": "markdown",
   "metadata": {},
   "source": [
    "# Clean & Modify Data"
   ]
  },
  {
   "cell_type": "markdown",
   "metadata": {},
   "source": [
    "Drop \"Name\", not necessary in our analysis"
   ]
  },
  {
   "cell_type": "code",
   "execution_count": 211,
   "metadata": {},
   "outputs": [],
   "source": [
    "df = df.drop(columns=[\"Name\"])"
   ]
  },
  {
   "cell_type": "markdown",
   "metadata": {},
   "source": [
    "Lowercase Column & Values"
   ]
  },
  {
   "cell_type": "code",
   "execution_count": 212,
   "metadata": {},
   "outputs": [],
   "source": [
    "# change all column to lower case \n",
    "df.columns  = df.columns.str.lower()\n",
    "\n",
    "# lower case all values\n",
    "df = df.apply(lambda value: value.str.lower() if (value.dtype == \"object\") else value)"
   ]
  },
  {
   "cell_type": "markdown",
   "metadata": {},
   "source": [
    "Check for duplicated rows & missing data in columns"
   ]
  },
  {
   "cell_type": "code",
   "execution_count": 213,
   "metadata": {},
   "outputs": [
    {
     "name": "stdout",
     "output_type": "stream",
     "text": [
      "There are 0 duplicated rows\n",
      "no. of missing data in each column:\n",
      " rating       0\n",
      "pace         0\n",
      "shooting     0\n",
      "passing      0\n",
      "dribbling    0\n",
      "defense      0\n",
      "physical     0\n",
      "vision       0\n",
      "reflex       0\n",
      "composure    0\n",
      "jumping      0\n",
      "foot         0\n",
      "age          0\n",
      "dtype: int64\n"
     ]
    }
   ],
   "source": [
    "print(\"There are\", df.duplicated().sum(), \"duplicated rows\")\n",
    "print(\"no. of missing data in each column:\\n\",df.isna().sum())"
   ]
  },
  {
   "cell_type": "markdown",
   "metadata": {},
   "source": [
    "# Regression Analysis"
   ]
  },
  {
   "cell_type": "markdown",
   "metadata": {},
   "source": [
    "## Simple "
   ]
  },
  {
   "cell_type": "markdown",
   "metadata": {},
   "source": [
    "Correlation of each variable to target variable (\"rating\")"
   ]
  },
  {
   "cell_type": "code",
   "execution_count": 214,
   "metadata": {},
   "outputs": [
    {
     "name": "stdout",
     "output_type": "stream",
     "text": [
      "reflex       0.88\n",
      "passing      0.71\n",
      "dribbling    0.69\n",
      "composure    0.68\n",
      "physical     0.56\n",
      "jumping      0.56\n",
      "vision       0.53\n",
      "shooting     0.46\n",
      "age          0.39\n",
      "defense      0.36\n",
      "pace         0.27\n",
      "Name: rating, dtype: float64\n"
     ]
    }
   ],
   "source": [
    "# Check correlation of each predictor\n",
    "correlation_df = df.select_dtypes(include=['number'])\n",
    "correlation_with_target = correlation_df.corr()['rating'].drop('rating')\n",
    "\n",
    "print(round(correlation_with_target,2).sort_values(ascending=False))"
   ]
  },
  {
   "cell_type": "markdown",
   "metadata": {},
   "source": [
    "“reflex” have a strong positive relationship with \"rating\". \n",
    "\n",
    "It will be our predictor in simple linear regression."
   ]
  },
  {
   "cell_type": "markdown",
   "metadata": {},
   "source": [
    "Setting Target & Predictor variable"
   ]
  },
  {
   "cell_type": "code",
   "execution_count": 215,
   "metadata": {},
   "outputs": [],
   "source": [
    "target = df[[\"rating\"]]\n",
    "predictor = df[[\"reflex\"]]"
   ]
  },
  {
   "cell_type": "markdown",
   "metadata": {},
   "source": [
    "Split data set 70:30 train-test"
   ]
  },
  {
   "cell_type": "code",
   "execution_count": 216,
   "metadata": {},
   "outputs": [
    {
     "name": "stdout",
     "output_type": "stream",
     "text": [
      "train set have 11312 rows for training\n",
      "test set have 4849 rows for evaluating model performance\n"
     ]
    }
   ],
   "source": [
    "predictor_train, predictor_test, target_train, target_test = train_test_split(predictor, target, test_size=0.3, random_state=42)\n",
    "print(\"train set have\",predictor_train.shape[0],\"rows for training\")\n",
    "print(\"test set have\",predictor_test.shape[0],\"rows for evaluating model performance\")"
   ]
  },
  {
   "cell_type": "markdown",
   "metadata": {},
   "source": [
    "Train model"
   ]
  },
  {
   "cell_type": "code",
   "execution_count": 217,
   "metadata": {},
   "outputs": [],
   "source": [
    "simple_linear = LinearRegression()\n",
    "\n",
    "# Fit training data\n",
    "simple_linear.fit(predictor_train,target_train)\n",
    "\n",
    "# Best fit line (Lowest train MSE) \n",
    "line = simple_linear.predict(predictor_train)\n",
    "slope = simple_linear.coef_.flatten()[0]\n",
    "intercept = simple_linear.intercept_.flatten()[0]"
   ]
  },
  {
   "cell_type": "markdown",
   "metadata": {},
   "source": [
    "Test Data"
   ]
  },
  {
   "cell_type": "code",
   "execution_count": 218,
   "metadata": {},
   "outputs": [],
   "source": [
    "predicted_target = simple_linear.predict(predictor_test)"
   ]
  },
  {
   "cell_type": "markdown",
   "metadata": {},
   "source": [
    "Plot"
   ]
  },
  {
   "cell_type": "code",
   "execution_count": 219,
   "metadata": {},
   "outputs": [
    {
     "data": {
      "image/png": "[encoded data removed]",
      "text/plain": [
       "<Figure size 800x600 with 1 Axes>"
      ]
     },
     "metadata": {},
     "output_type": "display_data"
    }
   ],
   "source": [
    "# Plot the figure\n",
    "plt.figure(figsize=(8, 6))\n",
    "\n",
    "# Plot line\n",
    "plt.plot(predictor_train, line, color='black', label=f'Best Fit Line: ŷ = {intercept:.2f} + {slope:.2f} * reflex')\n",
    "\n",
    "\n",
    "# Plot test data \n",
    "plt.scatter(predictor_test, target_test, color='grey',s=18, marker='x', label='Test Data')\n",
    "\n",
    "# Adding labels and title\n",
    "plt.xlabel('reflex')  \n",
    "plt.ylabel('rating')  \n",
    "plt.title('Predicting rating using reflex')\n",
    "plt.legend()\n",
    "\n",
    "plt.show()\n"
   ]
  },
  {
   "cell_type": "markdown",
   "metadata": {},
   "source": [
    "The best-fit line runs through approximately linear test data points.\n",
    "\n",
    "When reflex increases by a unit, rating increases by 0.68.\n"
   ]
  },
  {
   "cell_type": "markdown",
   "metadata": {},
   "source": [
    "P-Value of reflex"
   ]
  },
  {
   "cell_type": "code",
   "execution_count": 220,
   "metadata": {},
   "outputs": [
    {
     "name": "stdout",
     "output_type": "stream",
     "text": [
      "P-values for predictors:\n",
      "Predictor  P-Value\n",
      "   reflex      0.0\n"
     ]
    }
   ],
   "source": [
    "# Calculate p-value\n",
    "predictor_constant = sm.add_constant(predictor)\n",
    "stats_model = sm.OLS(target,predictor_constant).fit()\n",
    "\n",
    "# Extract and format p-values\n",
    "p_values = round(stats_model.pvalues.drop(\"const\"), 2).sort_values(ascending=False)\n",
    "p_values_df = pd.DataFrame(p_values).reset_index()\n",
    "p_values_df.columns = ['Predictor', 'P-Value']\n",
    "\n",
    "\n",
    "print(\"P-values for predictors:\")\n",
    "print(p_values_df.to_string(index=False))\n"
   ]
  },
  {
   "cell_type": "markdown",
   "metadata": {},
   "source": [
    "“reflex” is a significant predictor, p-value is (<0.05)."
   ]
  },
  {
   "cell_type": "markdown",
   "metadata": {},
   "source": [
    "Summary (MSE & R-Squared)"
   ]
  },
  {
   "cell_type": "code",
   "execution_count": 221,
   "metadata": {},
   "outputs": [
    {
     "name": "stdout",
     "output_type": "stream",
     "text": [
      "   Metric  Value\n",
      "Train MSE  10.48\n",
      " Test MSE  10.86\n",
      "R-squared   0.77\n"
     ]
    }
   ],
   "source": [
    "\n",
    "# Calculate MSE \n",
    "train_mse = round(mean_squared_error(target_train, line), 2)\n",
    "test_mse = round(mean_squared_error(target_test, predicted_target), 2)\n",
    "\n",
    "# Calculate R-squared\n",
    "r_squared = round(r2_score(target_test, predicted_target), 2)\n",
    "\n",
    "# Create summary table\n",
    "summary_df = pd.DataFrame({\n",
    "    'Metric': ['Train MSE', 'Test MSE', 'R-squared'],\n",
    "    'Value': [train_mse, test_mse, r_squared]\n",
    "})\n",
    "\n",
    "\n",
    "print(summary_df.to_string(index=False))"
   ]
  },
  {
   "cell_type": "markdown",
   "metadata": {},
   "source": [
    "Train MSE is slightly lower than Test MSE, the model fits well.\n",
    "\n",
    "R² (0.77), 23% of the variability in “rating” cannot be explained by “reflex”\n"
   ]
  },
  {
   "cell_type": "markdown",
   "metadata": {},
   "source": [
    "## Multiple"
   ]
  },
  {
   "cell_type": "markdown",
   "metadata": {},
   "source": [
    "Dummy variable for \"foot\""
   ]
  },
  {
   "cell_type": "code",
   "execution_count": 222,
   "metadata": {},
   "outputs": [],
   "source": [
    "# Create  dummy\n",
    "df = pd.get_dummies(df, columns=[\"foot\"], drop_first=True)\n",
    "\n",
    "# Change \"True\"/\"False\" value to \"1\"/\"0\"\n",
    "df[\"foot_right\"] = df[\"foot_right\"].astype(int)"
   ]
  },
  {
   "cell_type": "markdown",
   "metadata": {},
   "source": [
    "Multiple regression analysis only involves numerical predictors."
   ]
  },
  {
   "cell_type": "markdown",
   "metadata": {},
   "source": [
    "Set target and initial predictors "
   ]
  },
  {
   "cell_type": "code",
   "execution_count": 223,
   "metadata": {},
   "outputs": [],
   "source": [
    "target = df[[\"rating\"]]\n",
    "predictors_raw =df[[ 'pace', 'shooting', 'passing', 'dribbling', 'defense','physical', \n",
    "                     'vision', 'reflex','composure', 'jumping',  'age', \n",
    "                    'foot_right']]"
   ]
  },
  {
   "cell_type": "markdown",
   "metadata": {},
   "source": [
    "Collinearity"
   ]
  },
  {
   "cell_type": "code",
   "execution_count": 224,
   "metadata": {},
   "outputs": [
    {
     "name": "stdout",
     "output_type": "stream",
     "text": [
      "    predictors   vif\n",
      "4    dribbling  8.09\n",
      "3      passing  6.99\n",
      "2     shooting  5.33\n",
      "10     jumping  4.06\n",
      "6     physical  4.02\n",
      "7       vision  3.71\n",
      "5      defense  3.65\n",
      "9    composure  3.54\n",
      "8       reflex  3.40\n",
      "1         pace  1.96\n",
      "11         age  1.44\n",
      "12  foot_right  1.03\n"
     ]
    }
   ],
   "source": [
    "# Add constant \n",
    "predictors_constant = add_constant(predictors_raw)\n",
    "\n",
    "# Calculate VIF predictor\n",
    "vif_data = pd.DataFrame()\n",
    "vif_data['predictors'] = predictors_constant.columns\n",
    "vif_data['vif'] = [variance_inflation_factor(predictors_constant, i) for i in range(predictors_constant.shape[1])]\n",
    "vif_data = vif_data[vif_data['predictors'] != 'const']\n",
    "\n",
    "print(round(vif_data,2).sort_values(by=\"vif\",ascending=False))"
   ]
  },
  {
   "cell_type": "markdown",
   "metadata": {},
   "source": [
    "When there are highly correlated predictors, it affects model interpretability\n",
    "\n",
    "Predictors with VIF > 5 signifies high collinearity.\n",
    "\n",
    "We remove them from final predictors.\n"
   ]
  },
  {
   "cell_type": "markdown",
   "metadata": {},
   "source": [
    "Finalize predictors (remove dribbling, passing, shooting)"
   ]
  },
  {
   "cell_type": "code",
   "execution_count": 225,
   "metadata": {},
   "outputs": [],
   "source": [
    "predictors = df[[ 'pace',  'defense','physical',  'vision',  'reflex',\n",
    "                 'composure', 'jumping',  'age',  'foot_right']]"
   ]
  },
  {
   "cell_type": "markdown",
   "metadata": {},
   "source": [
    "Scale Predictors"
   ]
  },
  {
   "cell_type": "code",
   "execution_count": 226,
   "metadata": {},
   "outputs": [],
   "source": [
    "scaler = StandardScaler()\n",
    "# scale data\n",
    "predictors_scaled = scaler.fit_transform(predictors)\n",
    "\n",
    "\n",
    "predictors_scaled = pd.DataFrame(predictors_scaled, columns=predictors.columns)"
   ]
  },
  {
   "cell_type": "markdown",
   "metadata": {},
   "source": [
    "We standard transform predictors such that they are on a similar scale.\n",
    "\n",
    "It is now easier to interpret coefficients.\n"
   ]
  },
  {
   "cell_type": "markdown",
   "metadata": {},
   "source": [
    "Split data set 70:30 train-test"
   ]
  },
  {
   "cell_type": "code",
   "execution_count": 227,
   "metadata": {},
   "outputs": [
    {
     "name": "stdout",
     "output_type": "stream",
     "text": [
      "train set have 11312 rows for training\n",
      "test set have 4849 rows for evaluating model performance\n"
     ]
    }
   ],
   "source": [
    "predictors_train, predictors_test, target_train, target_test = train_test_split(predictors_scaled, target, test_size=0.3, random_state=20)\n",
    "print(\"train set have\",predictors_train.shape[0],\"rows for training\")\n",
    "print(\"test set have\",predictors_test.shape[0],\"rows for evaluating model performance\")"
   ]
  },
  {
   "cell_type": "markdown",
   "metadata": {},
   "source": [
    "Train model"
   ]
  },
  {
   "cell_type": "code",
   "execution_count": 228,
   "metadata": {},
   "outputs": [
    {
     "name": "stdout",
     "output_type": "stream",
     "text": [
      "    Predictor          Coefficient\n",
      "0        pace             0.983269\n",
      "1     defense             -0.09938\n",
      "2    physical             1.273626\n",
      "3      vision             0.198704\n",
      "4      reflex             4.413041\n",
      "5   composure             0.771968\n",
      "6     jumping            -0.166833\n",
      "7         age             0.428675\n",
      "8  foot_right            -0.129122\n",
      "9   Intercept  [66.13900236678629]\n"
     ]
    }
   ],
   "source": [
    "multiple_linear = LinearRegression()\n",
    "\n",
    "# Fit training data\n",
    "multiple_linear.fit(predictors_train,target_train)\n",
    "\n",
    "# Best fit line (Lowest train MSE) \n",
    "m_line = multiple_linear.predict(predictors_train)\n",
    "coefficients = multiple_linear.coef_\n",
    "intercept = multiple_linear.intercept_\n",
    "\n",
    "\n",
    "# Coefficients\n",
    "coef_df = pd.DataFrame({\n",
    "    'Predictor': predictors.columns,  \n",
    "    'Coefficient': coefficients.flatten()  \n",
    "})\n",
    "\n",
    "intercept_df = pd.DataFrame({'Predictor': ['Intercept'], 'Coefficient': [intercept]})\n",
    "coef_df = pd.concat([coef_df, intercept_df], ignore_index=True)\n",
    "\n",
    "\n",
    "print(coef_df)"
   ]
  },
  {
   "cell_type": "markdown",
   "metadata": {},
   "source": [
    "Test model"
   ]
  },
  {
   "cell_type": "code",
   "execution_count": 229,
   "metadata": {},
   "outputs": [],
   "source": [
    "predicted_target = multiple_linear.predict(predictors_test)"
   ]
  },
  {
   "cell_type": "markdown",
   "metadata": {},
   "source": [
    "P-Value"
   ]
  },
  {
   "cell_type": "code",
   "execution_count": 230,
   "metadata": {},
   "outputs": [
    {
     "name": "stdout",
     "output_type": "stream",
     "text": [
      "P-values for predictors:\n",
      " Predictor  P-Value\n",
      "      pace      0.0\n",
      "   defense      0.0\n",
      "  physical      0.0\n",
      "    vision      0.0\n",
      "    reflex      0.0\n",
      " composure      0.0\n",
      "   jumping      0.0\n",
      "       age      0.0\n",
      "foot_right      0.0\n"
     ]
    }
   ],
   "source": [
    "# Calculate p-value\n",
    "predictors_constant = sm.add_constant(predictors)\n",
    "stats_model = sm.OLS(target,predictors_constant).fit()\n",
    "\n",
    "\n",
    "p_values = round(stats_model.pvalues.drop(\"const\"), 2).sort_values(ascending=False)\n",
    "\n",
    "\n",
    "p_values_df = pd.DataFrame(p_values).reset_index()\n",
    "p_values_df.columns = ['Predictor', 'P-Value']\n",
    "\n",
    "\n",
    "print(\"P-values for predictors:\")\n",
    "print(p_values_df.to_string(index=False))\n"
   ]
  },
  {
   "cell_type": "markdown",
   "metadata": {},
   "source": [
    "All predictors are significant (p-value <0.05)\n"
   ]
  },
  {
   "cell_type": "code",
   "execution_count": 231,
   "metadata": {},
   "outputs": [
    {
     "name": "stdout",
     "output_type": "stream",
     "text": [
      "            Metric  Value\n",
      "         Train MSE   8.33\n",
      "          Test MSE   8.48\n",
      "         R-squared   0.81\n",
      "Adjusted R-squared   0.81\n"
     ]
    }
   ],
   "source": [
    "# Calculate train  & test mse\n",
    "train_mse = round(mean_squared_error(target_train, m_line), 2)\n",
    "test_mse = round(mean_squared_error(target_test, predicted_target), 2)\n",
    "\n",
    "# Calculate R-squared\n",
    "r_squared = round(r2_score(target_test, predicted_target), 2)\n",
    "adj_r_squared = round(1 - (1 - r_squared) * (len(target_test) - 1) / (len(target_test) - predicted_target.shape[1] - 1), 2)\n",
    "\n",
    "# Create summary table\n",
    "summary_df = pd.DataFrame({\n",
    "    'Metric': ['Train MSE', 'Test MSE', 'R-squared', 'Adjusted R-squared'],\n",
    "    'Value': [train_mse, test_mse, r_squared, adj_r_squared]\n",
    "})\n",
    "\n",
    "# Print summary table\n",
    "print(summary_df.to_string(index=False))"
   ]
  },
  {
   "cell_type": "markdown",
   "metadata": {},
   "source": [
    "Train MSE (8.12) is slightly lower than Test MSE (8.22), the model fits well.\n",
    "\n",
    "Adjusted R² (0.82), 18% of the variability in \"rating\" cannot be explained by the predictors\n"
   ]
  },
  {
   "cell_type": "markdown",
   "metadata": {},
   "source": [
    "# Conclusion"
   ]
  },
  {
   "cell_type": "markdown",
   "metadata": {},
   "source": [
    "The multiple regression model can predict rating fairly well.\n",
    "\n",
    "It was a surprise to see dribbling, passing, shooting removed from the model.\n",
    "\n",
    "Reflex provide a good gauge of a player's rating"
   ]
  }
 ],
 "metadata": {
  "kernelspec": {
   "display_name": "fc_25_env",
   "language": "python",
   "name": "python3"
  },
  "language_info": {
   "codemirror_mode": {
    "name": "ipython",
    "version": 3
   },
   "file_extension": ".py",
   "mimetype": "text/x-python",
   "name": "python",
   "nbconvert_exporter": "python",
   "pygments_lexer": "ipython3",
   "version": "3.9.20"
  }
 },
 "nbformat": 4,
 "nbformat_minor": 2
}
